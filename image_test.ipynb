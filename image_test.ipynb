{
  "nbformat": 4,
  "nbformat_minor": 0,
  "metadata": {
    "colab": {
      "name": "image_test.ipynb",
      "version": "0.3.2",
      "provenance": [],
      "include_colab_link": true
    },
    "kernelspec": {
      "name": "python3",
      "display_name": "Python 3"
    }
  },
  "cells": [
    {
      "cell_type": "markdown",
      "metadata": {
        "id": "view-in-github",
        "colab_type": "text"
      },
      "source": [
        "<a href=\"https://colab.research.google.com/github/YDHui/Tensorflow_Study/blob/master/image_test.ipynb\" target=\"_parent\"><img src=\"https://colab.research.google.com/assets/colab-badge.svg\" alt=\"Open In Colab\"/></a>"
      ]
    },
    {
      "cell_type": "code",
      "metadata": {
        "id": "7rCR2_SxAqa1",
        "colab_type": "code",
        "colab": {}
      },
      "source": [
        "from PIL import Image\n",
        "import numpy as np\n",
        "image = Image.open(\"qdyEV.jpg\")\n",
        "image_arr = np.array(image)\n",
        "print(image_arr)\n",
        "im = Image.fromarray(image_arr)\n",
        "im.save(\"test.jpg\")"
      ],
      "execution_count": 0,
      "outputs": []
    },
    {
      "cell_type": "code",
      "metadata": {
        "id": "rEKrbCJkB1JE",
        "colab_type": "code",
        "colab": {}
      },
      "source": [
        "import numpy as np\n",
        "import matplotlib.pyplot as plt\n",
        "X = np.linspace(-np.pi, np.pi, 256, endpoint=True)\n",
        "C,S = np.cos(X), np.sin(X)\n",
        "plt.plot(X,C)\n",
        "plt.plot(X,S)\n",
        "plt.show()"
      ],
      "execution_count": 0,
      "outputs": []
    },
    {
      "cell_type": "code",
      "metadata": {
        "id": "n0uYanYDRtBL",
        "colab_type": "code",
        "colab": {}
      },
      "source": [
        "from pylab import *\n",
        "figure(figsize=(10,8), dpi=80)\n",
        "subplot(1,1,1)\n",
        "X = np.linspace(-np.pi, np.pi, 256,endpoint=True)\n",
        "C,S = np.cos(X),np.sin(X)\n",
        "plot(X, C, color=\"blue\", linewidth=3.0, linestyle=\"--\")\n",
        "plot(X, S, color=\"red\", linewidth=3.0, linestyle=\"-\")\n",
        "xlim(-4.0,4.0)\n",
        "xticks(np.linspace(-4,4,9,endpoint=True))\n",
        "ylim(-1.0,1.0)\n",
        "yticks(np.linspace(-1,1,5,endpoint=True))\n",
        "show()"
      ],
      "execution_count": 0,
      "outputs": []
    },
    {
      "cell_type": "markdown",
      "metadata": {
        "id": "Zs3M3OoITQyj",
        "colab_type": "text"
      },
      "source": [
        ""
      ]
    }
  ]
}