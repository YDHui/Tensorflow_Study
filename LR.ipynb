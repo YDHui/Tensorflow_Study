{
  "nbformat": 4,
  "nbformat_minor": 0,
  "metadata": {
    "colab": {
      "name": "Untitled0.ipynb",
      "version": "0.3.2",
      "provenance": [],
      "include_colab_link": true
    },
    "kernelspec": {
      "name": "python3",
      "display_name": "Python 3"
    }
  },
  "cells": [
    {
      "cell_type": "markdown",
      "metadata": {
        "id": "view-in-github",
        "colab_type": "text"
      },
      "source": [
        "<a href=\"https://colab.research.google.com/github/YDHui/Tensorflow_Study/blob/master/LR.ipynb\" target=\"_parent\"><img src=\"https://colab.research.google.com/assets/colab-badge.svg\" alt=\"Open In Colab\"/></a>"
      ]
    },
    {
      "cell_type": "code",
      "metadata": {
        "id": "VOx9OpCJai0C",
        "colab_type": "code",
        "colab": {}
      },
      "source": [
        "import numpy as np\n",
        "import matplotlib.pyplot as plt\n",
        "import tensorflow as tf\n",
        "import xlrd\n",
        "import os\n",
        "from sklearn.utils import check_random_state"
      ],
      "execution_count": 0,
      "outputs": []
    },
    {
      "cell_type": "code",
      "metadata": {
        "id": "u5eEeldvaovx",
        "colab_type": "code",
        "colab": {}
      },
      "source": [
        "n = 100\n",
        "XX = np.arange(n)\n",
        "rs = check_random_state(0)\n",
        "YY = rs.randint(-10, 10, size=(n,)) + 2.0 * XX\n",
        "data = np.stack([XX,YY], axis=1)"
      ],
      "execution_count": 0,
      "outputs": []
    },
    {
      "cell_type": "code",
      "metadata": {
        "id": "4rxS1FWFa9aa",
        "colab_type": "code",
        "colab": {}
      },
      "source": [
        "num_epochs = 100\n",
        "W = tf.Variable(0.0, name=\"weights\")\n",
        "b = tf.Variable(0.0, name=\"bias\")\n",
        "def inputs():\n",
        "    \"\"\"\n",
        "    Defining the place_holders.\n",
        "    :return:\n",
        "            Returning the data and label place holders.\n",
        "    \"\"\"\n",
        "    X = tf.placeholder(tf.float32, name=\"X\")\n",
        "    Y = tf.placeholder(tf.float32, name=\"Y\")\n",
        "    return X,Y\n",
        "\n",
        "# Create the prediction.\n",
        "def inference(X):\n",
        "    \"\"\"\n",
        "    Forward passing the X.\n",
        "    :param X: Input.\n",
        "    :return: X*W + b.\n",
        "    \"\"\"\n",
        "    return X * W + b\n",
        "\n",
        "def loss(X, Y):\n",
        "    '''\n",
        "    compute the loss by comparing the predicted value to the actual label.\n",
        "    :param X: The input.\n",
        "    :param Y: The label.\n",
        "    :return: The loss over the samples.\n",
        "    '''\n",
        "\n",
        "    # Making the prediction.\n",
        "    Y_predicted = inference(X)\n",
        "    return tf.reduce_sum(tf.squared_difference(Y, Y_predicted))/(2*data.shape[0])\n",
        "\n",
        "\n",
        "# The training function.\n",
        "def train(loss):\n",
        "    learning_rate = 0.0001\n",
        "    return tf.train.GradientDescentOptimizer(learning_rate).minimize(loss)"
      ],
      "execution_count": 0,
      "outputs": []
    },
    {
      "cell_type": "code",
      "metadata": {
        "id": "Sh1Wd5JnbU24",
        "colab_type": "code",
        "colab": {
          "base_uri": "https://localhost:8080/",
          "height": 1817
        },
        "outputId": "3a200e4a-976c-4955-8d0a-4b0432b9b2db"
      },
      "source": [
        "with tf.Session() as sess:\n",
        "\n",
        "    # Initialize the variables[w and b].\n",
        "    sess.run(tf.global_variables_initializer())\n",
        "\n",
        "    # Get the input tensors\n",
        "    X, Y = inputs()\n",
        "\n",
        "    # Return the train loss and create the train_op.\n",
        "    train_loss = loss(X, Y)\n",
        "    train_op = train(train_loss)\n",
        "\n",
        "    # Step 8: train the model\n",
        "    for epoch_num in range(num_epochs):\n",
        "        loss_value, _ = sess.run([train_loss,train_op],\n",
        "                                 feed_dict={X: data[:,0], Y: data[:,1]})\n",
        "\n",
        "        # Displaying the loss per epoch.\n",
        "        print('epoch %d, loss=%f' %(epoch_num+1, loss_value))\n",
        "\n",
        "        # save the values of weight and bias\n",
        "        wcoeff, bias = sess.run([W, b])"
      ],
      "execution_count": 18,
      "outputs": [
        {
          "output_type": "stream",
          "text": [
            "epoch 1, loss=6440.419922\n",
            "epoch 2, loss=2914.888916\n",
            "epoch 3, loss=1324.827271\n",
            "epoch 4, loss=607.687805\n",
            "epoch 5, loss=284.248230\n",
            "epoch 6, loss=138.372574\n",
            "epoch 7, loss=72.580688\n",
            "epoch 8, loss=42.907661\n",
            "epoch 9, loss=29.524731\n",
            "epoch 10, loss=23.488831\n",
            "epoch 11, loss=20.766571\n",
            "epoch 12, loss=19.538784\n",
            "epoch 13, loss=18.985041\n",
            "epoch 14, loss=18.735300\n",
            "epoch 15, loss=18.622658\n",
            "epoch 16, loss=18.571852\n",
            "epoch 17, loss=18.548943\n",
            "epoch 18, loss=18.538612\n",
            "epoch 19, loss=18.533949\n",
            "epoch 20, loss=18.531845\n",
            "epoch 21, loss=18.530897\n",
            "epoch 22, loss=18.530466\n",
            "epoch 23, loss=18.530277\n",
            "epoch 24, loss=18.530193\n",
            "epoch 25, loss=18.530149\n",
            "epoch 26, loss=18.530132\n",
            "epoch 27, loss=18.530125\n",
            "epoch 28, loss=18.530121\n",
            "epoch 29, loss=18.530119\n",
            "epoch 30, loss=18.530119\n",
            "epoch 31, loss=18.530115\n",
            "epoch 32, loss=18.530115\n",
            "epoch 33, loss=18.530119\n",
            "epoch 34, loss=18.530115\n",
            "epoch 35, loss=18.530117\n",
            "epoch 36, loss=18.530117\n",
            "epoch 37, loss=18.530117\n",
            "epoch 38, loss=18.530119\n",
            "epoch 39, loss=18.530119\n",
            "epoch 40, loss=18.530115\n",
            "epoch 41, loss=18.530117\n",
            "epoch 42, loss=18.530119\n",
            "epoch 43, loss=18.530117\n",
            "epoch 44, loss=18.530115\n",
            "epoch 45, loss=18.530115\n",
            "epoch 46, loss=18.530115\n",
            "epoch 47, loss=18.530115\n",
            "epoch 48, loss=18.530117\n",
            "epoch 49, loss=18.530119\n",
            "epoch 50, loss=18.530119\n",
            "epoch 51, loss=18.530117\n",
            "epoch 52, loss=18.530113\n",
            "epoch 53, loss=18.530119\n",
            "epoch 54, loss=18.530117\n",
            "epoch 55, loss=18.530117\n",
            "epoch 56, loss=18.530117\n",
            "epoch 57, loss=18.530117\n",
            "epoch 58, loss=18.530115\n",
            "epoch 59, loss=18.530115\n",
            "epoch 60, loss=18.530115\n",
            "epoch 61, loss=18.530115\n",
            "epoch 62, loss=18.530111\n",
            "epoch 63, loss=18.530111\n",
            "epoch 64, loss=18.530117\n",
            "epoch 65, loss=18.530117\n",
            "epoch 66, loss=18.530115\n",
            "epoch 67, loss=18.530117\n",
            "epoch 68, loss=18.530115\n",
            "epoch 69, loss=18.530115\n",
            "epoch 70, loss=18.530111\n",
            "epoch 71, loss=18.530111\n",
            "epoch 72, loss=18.530115\n",
            "epoch 73, loss=18.530109\n",
            "epoch 74, loss=18.530111\n",
            "epoch 75, loss=18.530117\n",
            "epoch 76, loss=18.530113\n",
            "epoch 77, loss=18.530115\n",
            "epoch 78, loss=18.530115\n",
            "epoch 79, loss=18.530113\n",
            "epoch 80, loss=18.530113\n",
            "epoch 81, loss=18.530113\n",
            "epoch 82, loss=18.530111\n",
            "epoch 83, loss=18.530113\n",
            "epoch 84, loss=18.530109\n",
            "epoch 85, loss=18.530111\n",
            "epoch 86, loss=18.530111\n",
            "epoch 87, loss=18.530113\n",
            "epoch 88, loss=18.530107\n",
            "epoch 89, loss=18.530109\n",
            "epoch 90, loss=18.530109\n",
            "epoch 91, loss=18.530109\n",
            "epoch 92, loss=18.530111\n",
            "epoch 93, loss=18.530111\n",
            "epoch 94, loss=18.530111\n",
            "epoch 95, loss=18.530109\n",
            "epoch 96, loss=18.530111\n",
            "epoch 97, loss=18.530115\n",
            "epoch 98, loss=18.530111\n",
            "epoch 99, loss=18.530111\n",
            "epoch 100, loss=18.530111\n"
          ],
          "name": "stdout"
        }
      ]
    },
    {
      "cell_type": "code",
      "metadata": {
        "id": "vEn9GKJhb5Lx",
        "colab_type": "code",
        "colab": {
          "base_uri": "https://localhost:8080/",
          "height": 269
        },
        "outputId": "b88c1375-6e99-421b-cd6b-950ca1ccd0e1"
      },
      "source": [
        "Input_values = data[:,0]\n",
        "Labels = data[:,1]\n",
        "Prediction_values = data[:,0] * wcoeff + bias\n",
        "\n",
        "# uncomment if plotting is desired!\n",
        "plt.plot(Input_values, Labels, 'ro', label='main')\n",
        "plt.plot(Input_values, Prediction_values, label='Predicted')\n",
        "\n",
        "# Saving the result.\n",
        "plt.legend()\n",
        "plt.show()\n",
        "plt.close()"
      ],
      "execution_count": 19,
      "outputs": [
        {
          "output_type": "display_data",
          "data": {
            "image/png": "[encoded data removed]",
            "text/plain": [
              "<Figure size 432x288 with 1 Axes>"
            ]
          },
          "metadata": {
            "tags": []
          }
        }
      ]
    }
  ]
}